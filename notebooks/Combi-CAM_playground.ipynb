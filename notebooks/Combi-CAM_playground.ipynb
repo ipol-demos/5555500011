{
  "cells": [
    {
      "cell_type": "markdown",
      "metadata": {
        "id": "2rm-2pEw8XYc"
      },
      "source": [
        "## Installation and configuration:"
      ]
    },
    {
      "cell_type": "code",
      "execution_count": null,
      "metadata": {
        "colab": {
          "background_save": true
        },
        "id": "ZBAXvJ1-76ik"
      },
      "outputs": [],
      "source": [
        "import os\n",
        "import shutil\n",
        "\n",
        "# Clone repository\n",
        "!git clone https://github.com/DavidFaget/Combi-CAM\n",
        "\n",
        "# Download model weights (not provided)\n",
        "!wget https:.\n",
        "\n",
        "# Install Conda env\n",
        "!conda config --add channels conda-forge\n",
        "!conda config --set channel_priority strict!conda create -n certhgeoloc python=3.8 pip\n",
        "!conda activate certhgeoloc\n",
        "!pip install h5py\n",
        "!pip install torch torchvision torchaudio\n",
        "!pip install efficientnet_pytorch==0.7.0\n",
        "%cd /content/Combi-CAM\n",
        "!pip install -r requirements.txt\n",
        "\n",
        "# Copy weights to the right folder\n",
        "target_dir = '/content/Combi-CAM'\n",
        "source_file = '/content/back_coll_features.hdf5'\n",
        "destination_file = os.path.join(target_dir, 'back_coll_features.hdf5')\n",
        "shutil.copy(source_file, destination_file)"
      ]
    },
    {
      "cell_type": "markdown",
      "metadata": {
        "id": "lh4pYmzo8cYz"
      },
      "source": [
        "## Inference:"
      ]
    },
    {
      "cell_type": "markdown",
      "metadata": {
        "id": "Ti0Z728_A8iA"
      },
      "source": [
        "Possible arguments:\n",
        "-- combicam\n",
        "-- gradcam\n",
        "-- gradcamplusplus\n",
        "-- layercam"
      ]
    },
    {
      "cell_type": "code",
      "execution_count": null,
      "metadata": {
        "id": "c27Hk-I2ekLD"
      },
      "outputs": [],
      "source": [
        "!python inference.py --image_url \"https://f689dcf0.delivery.rocketcdn.me/wp-content/uploads/2021/08/sesion-de-fotos-en-familia-en-paris-ivan-conde-ph-ideas-fotos-torre-eiffel-1x.jpg\" --use_cpu  --combicam #--layercam --gradcamplusplus --gradcam"
      ]
    }
  ],
  "metadata": {
    "colab": {
      "provenance": []
    },
    "kernelspec": {
      "display_name": "Python 3",
      "name": "python3"
    },
    "language_info": {
      "name": "python"
    }
  },
  "nbformat": 4,
  "nbformat_minor": 0
}
